{
 "cells": [
  {
   "cell_type": "code",
   "execution_count": 11,
   "metadata": {},
   "outputs": [],
   "source": [
    "#### importing packages ################################################################\n",
    "\n",
    "#import Pyro\n",
    "import pandas as pd\n",
    "import numpy as np\n",
    "from numpy import linalg\n",
    "import matplotlib.pyplot as plt\n",
    "#import networkx as nx\n",
    "\n",
    "#import cufflinks as cl\n",
    "#cl.go_offline()\n",
    "import jinja2 as jin\n",
    "\n",
    "#import cytoolz00\n",
    "import time\n",
    "import datetime\n",
    "from datetime import timedelta\n",
    "import math\n",
    "import scipy\n",
    "import glob"
   ]
  },
  {
   "cell_type": "code",
   "execution_count": 12,
   "metadata": {},
   "outputs": [],
   "source": [
    "\n",
    "#import seaborn as sns"
   ]
  },
  {
   "cell_type": "code",
   "execution_count": 13,
   "metadata": {},
   "outputs": [],
   "source": [
    "import os\n",
    "import sys\n",
    "from pyomo.environ import *\n",
    "#from pyomo.pysp.scenariotree.scenariotreemanager import ScenarioTreeManagerSerial\n",
    "from pyomo.pysp.ef import create_ef_instance\n",
    "from pyomo.opt import SolverFactory\n",
    "from pyutilib.misc.config import ConfigBlock"
   ]
  },
  {
   "cell_type": "code",
   "execution_count": 17,
   "metadata": {},
   "outputs": [],
   "source": [
    "from utils import read_lib\n",
    "\n",
    "import cloudpickle"
   ]
  },
  {
   "cell_type": "code",
   "execution_count": 18,
   "metadata": {},
   "outputs": [],
   "source": [
    "df_nodes = pd.read_csv('df_nodes.csv')\n",
    "\n",
    "days = ['Monday', 'Tuesday', 'Wednesday', 'Thursday', 'Friday', 'Saturday', 'Sunday']\n",
    "time_windows = [ [0,7],[8,18],[19,23]]\n",
    "max_rides = [15,20,25]\n",
    "head_ways = [5,7,10,15,20,25]\n",
    "demand_std_dev = [0,1,2]\n",
    "num_routes = [1,2,3,4,5]"
   ]
  },
  {
   "cell_type": "code",
   "execution_count": 19,
   "metadata": {},
   "outputs": [],
   "source": [
    "case_list = read_lib.create_case_list(days,time_windows,max_rides,head_ways,demand_std_dev,num_routes)"
   ]
  },
  {
   "cell_type": "code",
   "execution_count": 20,
   "metadata": {},
   "outputs": [],
   "source": [
    "look_up_dictionary = read_lib.create_look_up_dictionary(days,time_windows,max_rides,head_ways,demand_std_dev,num_routes)"
   ]
  },
  {
   "cell_type": "code",
   "execution_count": 32,
   "metadata": {},
   "outputs": [
    {
     "name": "stdout",
     "output_type": "stream",
     "text": [
      "937.86\n",
      "nv : Size=1, Index=R\n",
      "    Key : Lower : Value : Upper : Fixed : Stale : Domain\n",
      "      1 :     0 :  29.0 :  None : False : False : NonNegativeIntegers\n",
      "None\n",
      "size : Size=1, Index=R\n",
      "    Key : Lower : Value : Upper : Fixed : Stale : Domain\n",
      "      1 :     0 :  14.0 :  None : False : False : NonNegativeIntegers\n",
      "None\n",
      "1015.62\n",
      "nv : Size=2, Index=R\n",
      "    Key : Lower : Value : Upper : Fixed : Stale : Domain\n",
      "      1 :     0 :  23.0 :  None : False : False : NonNegativeIntegers\n",
      "      2 :     0 :   6.0 :  None : False : False : NonNegativeIntegers\n",
      "None\n",
      "size : Size=2, Index=R\n",
      "    Key : Lower : Value : Upper : Fixed : Stale : Domain\n",
      "      1 :     0 :  14.0 :  None : False : False : NonNegativeIntegers\n",
      "      2 :     0 :  43.0 :  None : False : False : NonNegativeIntegers\n",
      "None\n",
      "1002.54\n",
      "nv : Size=3, Index=R\n",
      "    Key : Lower : Value : Upper : Fixed : Stale : Domain\n",
      "      1 :     0 :  12.0 :  None : False : False : NonNegativeIntegers\n",
      "      2 :     0 :   0.0 :  None : False : False : NonNegativeIntegers\n",
      "      3 :     0 :  19.0 :  None : False : False : NonNegativeIntegers\n",
      "None\n",
      "size : Size=3, Index=R\n",
      "    Key : Lower : Value : Upper : Fixed : Stale : Domain\n",
      "      1 :     0 :  14.0 :  None : False : False : NonNegativeIntegers\n",
      "      2 :     0 :  43.0 :  None : False : False : NonNegativeIntegers\n",
      "      3 :     0 :  14.0 :  None : False : False : NonNegativeIntegers\n",
      "None\n",
      "937.86\n",
      "nv : Size=4, Index=R\n",
      "    Key : Lower : Value : Upper : Fixed : Stale : Domain\n",
      "      1 :     0 :   0.0 :  None : False : False : NonNegativeIntegers\n",
      "      2 :     0 :   6.0 :  None : False : False : NonNegativeIntegers\n",
      "      3 :     0 :   0.0 :  None : False : False : NonNegativeIntegers\n",
      "      4 :     0 :  23.0 :  None : False : False : NonNegativeIntegers\n",
      "None\n",
      "size : Size=4, Index=R\n",
      "    Key : Lower : Value : Upper : Fixed : Stale : Domain\n",
      "      1 :     0 :  14.0 :  None : False : False : NonNegativeIntegers\n",
      "      2 :     0 :  14.0 :  None : False : False : NonNegativeIntegers\n",
      "      3 :     0 :  43.0 :  None : False : False : NonNegativeIntegers\n",
      "      4 :     0 :  14.0 :  None : False : False : NonNegativeIntegers\n",
      "None\n",
      "1998.9\n",
      "nv : Size=5, Index=R\n",
      "    Key : Lower : Value : Upper : Fixed : Stale : Domain\n",
      "      1 :     0 :   6.0 :  None : False : False : NonNegativeIntegers\n",
      "      2 :     0 :  39.0 :  None : False : False : NonNegativeIntegers\n",
      "      3 :     0 :   0.0 :  None : False : False : NonNegativeIntegers\n",
      "      4 :     0 :  12.0 :  None : False : False : NonNegativeIntegers\n",
      "      5 :     0 :   0.0 :  None : False : False : NonNegativeIntegers\n",
      "None\n",
      "size : Size=5, Index=R\n",
      "    Key : Lower : Value : Upper : Fixed : Stale : Domain\n",
      "      1 :     0 :  14.0 :  None : False : False : NonNegativeIntegers\n",
      "      2 :     0 :  14.0 :  None : False : False : NonNegativeIntegers\n",
      "      3 :     0 :  43.0 :  None : False : False : NonNegativeIntegers\n",
      "      4 :     0 :  43.0 :  None : False : False : NonNegativeIntegers\n",
      "      5 :     0 :  43.0 :  None : False : False : NonNegativeIntegers\n",
      "None\n",
      "937.86\n",
      "nv : Size=1, Index=R\n",
      "    Key : Lower : Value : Upper : Fixed : Stale : Domain\n",
      "      1 :     0 :  29.0 :  None : False : False : NonNegativeIntegers\n",
      "None\n",
      "size : Size=1, Index=R\n",
      "    Key : Lower : Value : Upper : Fixed : Stale : Domain\n",
      "      1 :     0 :  14.0 :  None : False : False : NonNegativeIntegers\n",
      "None\n"
     ]
    }
   ],
   "source": [
    "dir_name = './VR_solutions/'\n",
    "#case = 'Tuesday_tw=[0, 3]_mr=15_hw=10_dr=0.8'\n",
    "#case_list = ['Monday_tw=[0, 3]_mr=18_hw=10_dr=0.8']\n",
    "for case in case_list[0:6]:\n",
    "    instance = read_lib.read_pickle(dir_name,case)\n",
    "    print instance.Total_Cost()\n",
    "    print instance.nv.display()\n",
    "    print instance.size.display()"
   ]
  },
  {
   "cell_type": "code",
   "execution_count": 21,
   "metadata": {},
   "outputs": [
    {
     "ename": "NameError",
     "evalue": "name 'event' is not defined",
     "output_type": "error",
     "traceback": [
      "\u001b[0;31m---------------------------------------------------------------------------\u001b[0m",
      "\u001b[0;31mNameError\u001b[0m                                 Traceback (most recent call last)",
      "\u001b[0;32m<ipython-input-21-aae5f298b31d>\u001b[0m in \u001b[0;36m<module>\u001b[0;34m()\u001b[0m\n\u001b[1;32m     24\u001b[0m     \u001b[0mstagger\u001b[0m \u001b[0;34m=\u001b[0m \u001b[0;36m1.0\u001b[0m\u001b[0;34m\u001b[0m\u001b[0m\n\u001b[1;32m     25\u001b[0m     \u001b[0mflex_allowed\u001b[0m \u001b[0;34m=\u001b[0m \u001b[0;36m1.0\u001b[0m\u001b[0;34m\u001b[0m\u001b[0m\n\u001b[0;32m---> 26\u001b[0;31m     \u001b[0mtheo_num_parition\u001b[0m\u001b[0;34m,\u001b[0m \u001b[0msim_num_parition\u001b[0m\u001b[0;34m=\u001b[0m \u001b[0mevent\u001b[0m\u001b[0;34m.\u001b[0m\u001b[0mcompute_sim_bus_number\u001b[0m\u001b[0;34m(\u001b[0m\u001b[0mday\u001b[0m\u001b[0;34m,\u001b[0m\u001b[0mtime_window\u001b[0m\u001b[0;34m,\u001b[0m\u001b[0mstagger\u001b[0m\u001b[0;34m,\u001b[0m\u001b[0mflex_allowed\u001b[0m\u001b[0;34m,\u001b[0m\u001b[0mhead_way\u001b[0m\u001b[0;34m,\u001b[0m\u001b[0mroute_partition_dict\u001b[0m\u001b[0;34m)\u001b[0m\u001b[0;34m\u001b[0m\u001b[0m\n\u001b[0m\u001b[1;32m     27\u001b[0m     \u001b[0mtheo_num\u001b[0m\u001b[0;34m,\u001b[0m \u001b[0msim_num\u001b[0m\u001b[0;34m=\u001b[0m \u001b[0mevent\u001b[0m\u001b[0;34m.\u001b[0m\u001b[0mcompute_sim_bus_number\u001b[0m\u001b[0;34m(\u001b[0m\u001b[0mday\u001b[0m\u001b[0;34m,\u001b[0m\u001b[0mtime_window\u001b[0m\u001b[0;34m,\u001b[0m\u001b[0mstagger\u001b[0m\u001b[0;34m,\u001b[0m\u001b[0mflex_allowed\u001b[0m\u001b[0;34m,\u001b[0m\u001b[0mhead_way\u001b[0m\u001b[0;34m,\u001b[0m\u001b[0mroute_pre_partition_dict\u001b[0m\u001b[0;34m)\u001b[0m\u001b[0;34m\u001b[0m\u001b[0m\n\u001b[1;32m     28\u001b[0m \u001b[0;34m\u001b[0m\u001b[0m\n",
      "\u001b[0;31mNameError\u001b[0m: name 'event' is not defined"
     ]
    }
   ],
   "source": [
    "dir_name = './VR_solutions/'\n",
    "#case = 'Tuesday_tw=[0, 3]_mr=15_hw=10_dr=0.8'\n",
    "#case_list = ['Monday_tw=[0, 3]_mr=18_hw=10_dr=0.8']\n",
    "for case in case_list[0:3]:\n",
    "    instance = read_lib.read_pickle(dir_name,case)\n",
    "    x = case.split('_')\n",
    "\n",
    "\n",
    "    list_num, list_geo = read_lib.get_route(df_nodes, instance)\n",
    "    route = read_lib.clean_route(list_geo)\n",
    "    cap_list =read_lib.route_cap(list_num,instance)\n",
    "    route_partition_dict =read_lib.partition_route(route)\n",
    "    d ={}\n",
    "    d[0]= route\n",
    "    route_pre_partition_dict = d\n",
    "    \n",
    "\n",
    "    \n",
    "    \n",
    "    day = x[0]\n",
    "    time_window = x[1][3:]\n",
    "    head_way = int(x[3][3:])\n",
    "    \n",
    "    stagger = 1.0\n",
    "    flex_allowed = 1.0\n",
    "    theo_num_parition, sim_num_parition= event.compute_sim_bus_number(day,time_window,stagger,flex_allowed,head_way,route_partition_dict)\n",
    "    theo_num, sim_num= event.compute_sim_bus_number(day,time_window,stagger,flex_allowed,head_way,route_pre_partition_dict)\n",
    "    \n",
    "    \n",
    "    look_up_dictionary[x[0]][x[1]][x[2]][x[3]][x[4]]['cap_list'] = cap_list\n",
    "    look_up_dictionary[x[0]][x[1]][x[2]][x[3]][x[4]]['number_list'] = list_num\n",
    "    look_up_dictionary[x[0]][x[1]][x[2]][x[3]][x[4]]['geo_list'] = list_geo\n",
    "    look_up_dictionary[x[0]][x[1]][x[2]][x[3]][x[4]]['geo_route'] = route\n",
    "    look_up_dictionary[x[0]][x[1]][x[2]][x[3]][x[4]]['route_partition'] = route_partition_dict\n",
    "    look_up_dictionary[x[0]][x[1]][x[2]][x[3]][x[4]]['number_of_buses'] = read_lib.get_vehicles(instance)\n",
    "    look_up_dictionary[x[0]][x[1]][x[2]][x[3]][x[4]]['loop_time'] = read_lib.compute_loop_time(instance,df_nodes)\n",
    "    #look_up_dictionary[x[0]][x[1]][x[2]][x[3]][x[4]]['head_way'] = get_HW(instance)\n",
    "    #look_up_dictionary[x[0]][x[1]][x[2]][x[3]][x[4]][max_ride_time] = get_max_ride(instance)\n",
    "    look_up_dictionary[x[0]][x[1]][x[2]][x[3]][x[4]]['number_of_buses'] =read_lib.get_vehicles(instance)\n",
    "    look_up_dictionary[x[0]][x[1]][x[2]][x[3]][x[4]]['objective_value'] = read_lib.get_objective(instance)\n",
    "    look_up_dictionary[x[0]][x[1]][x[2]][x[3]][x[4]]['hourly_cost'] = read_lib.cost_per_hour(instance,df_nodes)\n",
    "    \n",
    "    look_up_dictionary[x[0]][x[1]][x[2]][x[3]][x[4]]['partition_theo_bus_num'] = theo_num_parition\n",
    "    look_up_dictionary[x[0]][x[1]][x[2]][x[3]][x[4]]['partition_sim_bus_num'] =  sim_num_parition\n",
    "    look_up_dictionary[x[0]][x[1]][x[2]][x[3]][x[4]]['theo_bus_num'] = theo_num\n",
    "    look_up_dictionary[x[0]][x[1]][x[2]][x[3]][x[4]]['sim_bus_num'] =  sim_num\n",
    "\n",
    "    print look_up_dictionary[x[0]][x[1]][x[2]][x[3]][x[4]]['geo_route']\n",
    "    print look_up_dictionary[x[0]][x[1]][x[2]][x[3]][x[4]]['route_partition']"
   ]
  },
  {
   "cell_type": "code",
   "execution_count": null,
   "metadata": {},
   "outputs": [],
   "source": [
    "look_up_dictionary['Tuesday']['tw=[12, 15]']['mr=20']['hw=10']['dr=1.0'].keys()"
   ]
  },
  {
   "cell_type": "code",
   "execution_count": 39,
   "metadata": {},
   "outputs": [
    {
     "data": {
      "text/plain": [
       "['R', 'D', 'E', 'R', 'A', 'C', 'R', 'B', 'R']"
      ]
     },
     "execution_count": 39,
     "metadata": {},
     "output_type": "execute_result"
    }
   ],
   "source": [
    "look_up_dictionary['Tuesday']['tw=[12, 15]']['mr=20']['hw=10']['dr=1.0']['geo_route']"
   ]
  },
  {
   "cell_type": "code",
   "execution_count": 40,
   "metadata": {},
   "outputs": [
    {
     "data": {
      "text/plain": [
       "{0: ['R', 'D', 'E', 'R'], 1: ['R', 'A', 'C', 'R'], 2: ['R', 'B', 'R']}"
      ]
     },
     "execution_count": 40,
     "metadata": {},
     "output_type": "execute_result"
    }
   ],
   "source": [
    "look_up_dictionary['Tuesday']['tw=[12, 15]']['mr=20']['hw=10']['dr=1.0']['route_partition']"
   ]
  },
  {
   "cell_type": "code",
   "execution_count": 41,
   "metadata": {},
   "outputs": [
    {
     "data": {
      "text/plain": [
       "12"
      ]
     },
     "execution_count": 41,
     "metadata": {},
     "output_type": "execute_result"
    }
   ],
   "source": [
    "look_up_dictionary['Tuesday']['tw=[12, 15]']['mr=20']['hw=10']['dr=1.0']['partition_sim_bus_num']"
   ]
  },
  {
   "cell_type": "code",
   "execution_count": 25,
   "metadata": {},
   "outputs": [],
   "source": [
    "days = ['Tuesday'] #['Monday', 'Tuesday', 'Wednesday', 'Thursday', 'Friday', 'Saturday', 'Sunday']\n",
    "time_windows = [[12,15]]# [[0,3],[4,7],[8,11],[12,15],[16,19],[20,23]]\n",
    "max_rides = [15,20,25]\n",
    "head_ways = [10,15,20]\n",
    "dwell_reductions = [1.0]\n",
    "df_h = pd.DataFrame(data =0, index = head_ways, columns= max_rides)\n",
    "df_cost = pd.DataFrame(data =0, index = head_ways, columns= max_rides)\n",
    "#df_route = pd.DataFrame(data =0, index = head_ways, columns= max_rides)\n",
    "for day in days:\n",
    "    for tw in time_windows:\n",
    "        for mr in max_rides:\n",
    "            for hw in head_ways:\n",
    "                for dr in dwell_reductions:\n",
    "                    nv = look_up_dictionary[str(day)]['tw='+str(tw)]['mr=' + str(mr)]['hw=' + str(hw)]['dr=' +str(dr)]['sim_bus_num']\n",
    "                    df_h.loc[hw,mr] = nv\n",
    "                    \n",
    "                    cost = look_up_dictionary[str(day)]['tw='+str(tw)]['mr=' + str(mr)]['hw=' + str(hw)]['dr=' +str(dr)]['objective_value']\n",
    "                    df_cost.loc[hw,mr] = cost\n",
    "                    \n",
    "                    #df_route.loc[hw,mr] = look_up_dictionary[str(day)]['tw='+str(tw)]['mr=' + str(mr)]['hw=' + str(hw)]['dr=' +str(dr)]['geo_route']\n"
   ]
  },
  {
   "cell_type": "code",
   "execution_count": 26,
   "metadata": {},
   "outputs": [
    {
     "data": {
      "text/html": [
       "<div>\n",
       "<style scoped>\n",
       "    .dataframe tbody tr th:only-of-type {\n",
       "        vertical-align: middle;\n",
       "    }\n",
       "\n",
       "    .dataframe tbody tr th {\n",
       "        vertical-align: top;\n",
       "    }\n",
       "\n",
       "    .dataframe thead th {\n",
       "        text-align: right;\n",
       "    }\n",
       "</style>\n",
       "<table border=\"1\" class=\"dataframe\">\n",
       "  <thead>\n",
       "    <tr style=\"text-align: right;\">\n",
       "      <th></th>\n",
       "      <th>15</th>\n",
       "      <th>20</th>\n",
       "      <th>25</th>\n",
       "    </tr>\n",
       "  </thead>\n",
       "  <tbody>\n",
       "    <tr>\n",
       "      <th>10</th>\n",
       "      <td>932.256886</td>\n",
       "      <td>1772.421072</td>\n",
       "      <td>1738.400265</td>\n",
       "    </tr>\n",
       "    <tr>\n",
       "      <th>15</th>\n",
       "      <td>815.724775</td>\n",
       "      <td>2621.972491</td>\n",
       "      <td>1721.312834</td>\n",
       "    </tr>\n",
       "    <tr>\n",
       "      <th>20</th>\n",
       "      <td>524.394498</td>\n",
       "      <td>2158.711556</td>\n",
       "      <td>1745.311059</td>\n",
       "    </tr>\n",
       "  </tbody>\n",
       "</table>\n",
       "</div>"
      ],
      "text/plain": [
       "            15           20           25\n",
       "10  932.256886  1772.421072  1738.400265\n",
       "15  815.724775  2621.972491  1721.312834\n",
       "20  524.394498  2158.711556  1745.311059"
      ]
     },
     "execution_count": 26,
     "metadata": {},
     "output_type": "execute_result"
    }
   ],
   "source": [
    "df_cost"
   ]
  },
  {
   "cell_type": "code",
   "execution_count": 27,
   "metadata": {},
   "outputs": [
    {
     "data": {
      "text/html": [
       "<div>\n",
       "<style scoped>\n",
       "    .dataframe tbody tr th:only-of-type {\n",
       "        vertical-align: middle;\n",
       "    }\n",
       "\n",
       "    .dataframe tbody tr th {\n",
       "        vertical-align: top;\n",
       "    }\n",
       "\n",
       "    .dataframe thead th {\n",
       "        text-align: right;\n",
       "    }\n",
       "</style>\n",
       "<table border=\"1\" class=\"dataframe\">\n",
       "  <thead>\n",
       "    <tr style=\"text-align: right;\">\n",
       "      <th></th>\n",
       "      <th>15</th>\n",
       "      <th>20</th>\n",
       "      <th>25</th>\n",
       "    </tr>\n",
       "  </thead>\n",
       "  <tbody>\n",
       "    <tr>\n",
       "      <th>10</th>\n",
       "      <td>17</td>\n",
       "      <td>12</td>\n",
       "      <td>13</td>\n",
       "    </tr>\n",
       "    <tr>\n",
       "      <th>15</th>\n",
       "      <td>12</td>\n",
       "      <td>12</td>\n",
       "      <td>9</td>\n",
       "    </tr>\n",
       "    <tr>\n",
       "      <th>20</th>\n",
       "      <td>9</td>\n",
       "      <td>9</td>\n",
       "      <td>8</td>\n",
       "    </tr>\n",
       "  </tbody>\n",
       "</table>\n",
       "</div>"
      ],
      "text/plain": [
       "    15  20  25\n",
       "10  17  12  13\n",
       "15  12  12   9\n",
       "20   9   9   8"
      ]
     },
     "execution_count": 27,
     "metadata": {},
     "output_type": "execute_result"
    }
   ],
   "source": [
    "df_h"
   ]
  },
  {
   "cell_type": "code",
   "execution_count": 28,
   "metadata": {},
   "outputs": [
    {
     "data": {
      "text/plain": [
       "Text(0.5,42,'max ride')"
      ]
     },
     "execution_count": 28,
     "metadata": {},
     "output_type": "execute_result"
    },
    {
     "data": {
      "image/png": "[encoded data removed]",
      "text/plain": [
       "<Figure size 1080x504 with 2 Axes>"
      ]
     },
     "metadata": {
      "needs_background": "light"
     },
     "output_type": "display_data"
    }
   ],
   "source": [
    "plt.figure(figsize=(15,7))\n",
    "plt.subplot(1, 1, 1)\n",
    "sns.heatmap(df_h,\n",
    "            cmap='RdYlGn_r', \n",
    "            linewidths=0.7,\n",
    "            annot=True)\n",
    "plt.title(\"Number of Buses\")\n",
    "plt.xlabel('max ride')"
   ]
  },
  {
   "cell_type": "code",
   "execution_count": 24,
   "metadata": {},
   "outputs": [
    {
     "data": {
      "text/plain": [
       "Text(114,0.5,'head way')"
      ]
     },
     "execution_count": 24,
     "metadata": {},
     "output_type": "execute_result"
    },
    {
     "data": {
      "image/png": "[encoded data removed]",
      "text/plain": [
       "<Figure size 1080x504 with 2 Axes>"
      ]
     },
     "metadata": {
      "needs_background": "light"
     },
     "output_type": "display_data"
    }
   ],
   "source": [
    "plt.figure(figsize=(15,7))\n",
    "plt.subplot(1, 1, 1)\n",
    "sns.heatmap(df_h,\n",
    "            cmap='RdYlGn_r', \n",
    "            linewidths=0.7,\n",
    "            annot=True)\n",
    "plt.title(\"Number of Buses\")\n",
    "plt.xlabel('max ride')\n",
    "plt.ylabel('head way')"
   ]
  },
  {
   "cell_type": "code",
   "execution_count": 14,
   "metadata": {},
   "outputs": [
    {
     "data": {
      "text/plain": [
       "Text(114,0.5,'head way')"
      ]
     },
     "execution_count": 14,
     "metadata": {},
     "output_type": "execute_result"
    },
    {
     "data": {
      "image/png": "[encoded data removed]",
      "text/plain": [
       "<Figure size 1080x504 with 2 Axes>"
      ]
     },
     "metadata": {
      "needs_background": "light"
     },
     "output_type": "display_data"
    }
   ],
   "source": [
    "plt.figure(figsize=(15,7))\n",
    "plt.subplot(1, 1, 1)\n",
    "sns.heatmap(df_cost,\n",
    "            cmap='RdYlGn_r', \n",
    "            linewidths=0.7,\n",
    "            annot=True)\n",
    "plt.title(\"OBJ\")\n",
    "plt.xlabel('max ride')\n",
    "plt.ylabel('head way')"
   ]
  },
  {
   "cell_type": "code",
   "execution_count": 8,
   "metadata": {},
   "outputs": [
    {
     "data": {
      "image/png": "[encoded data removed]",
      "text/plain": [
       "<Figure size 432x288 with 1 Axes>"
      ]
     },
     "metadata": {},
     "output_type": "display_data"
    }
   ],
   "source": [
    "DG = nx.DiGraph()\n",
    "r = ['R', 'E', 'B', 'R', 'A', 'R', 'C', 'D', 'R']\n",
    "for i in range(len(r)):\n",
    "    node = r[i]\n",
    "    DG.add_node(node) \n",
    "    \n",
    "for i in range(len(r) - 1):\n",
    "    edge = (r[i],r[i+1])\n",
    "    DG.add_edge(*edge) \n",
    "    \n",
    "plt.subplot(121)\n",
    "nx.draw(DG, with_labels=True, font_weight='bold',pos = nx.layout.spring_layout(DG))"
   ]
  },
  {
   "cell_type": "code",
   "execution_count": 9,
   "metadata": {},
   "outputs": [
    {
     "data": {
      "image/png": "[encoded data removed]",
      "text/plain": [
       "<Figure size 432x288 with 1 Axes>"
      ]
     },
     "metadata": {
      "needs_background": "light"
     },
     "output_type": "display_data"
    }
   ],
   "source": [
    "# This import registers the 3D projection, but is otherwise unused.\n",
    "from mpl_toolkits.mplot3d import Axes3D  # noqa: F401 unused import\n",
    "\n",
    "import matplotlib.pyplot as plt\n",
    "import numpy as np\n",
    "\n",
    "# Fixing random state for reproducibility\n",
    "np.random.seed(19680801)\n",
    "\n",
    "\n",
    "fig = plt.figure()\n",
    "ax = fig.add_subplot(111, projection='3d')\n",
    "\n",
    "colors = ['r', 'g', 'b', 'y']\n",
    "yticks = [3, 2, 1, 0]\n",
    "for c, k in zip(colors, yticks):\n",
    "    # Generate the random data for the y=k 'layer'.\n",
    "    xs = np.arange(20)\n",
    "    ys = np.random.rand(20)\n",
    "\n",
    "    # You can provide either a single color or an array with the same length as\n",
    "    # xs and ys. To demonstrate this, we color the first bar of each set cyan.\n",
    "    cs = [c] * len(xs)\n",
    "    cs[0] = 'c'\n",
    "\n",
    "    # Plot the bar graph given by xs and ys on the plane y=k with 80% opacity.\n",
    "    ax.bar(xs, ys, zs=k, zdir='y', color=cs, alpha=0.8)\n",
    "\n",
    "ax.set_xlabel('X')\n",
    "ax.set_ylabel('Y')\n",
    "ax.set_zlabel('Z')\n",
    "\n",
    "# On the y axis let's only label the discrete values that we have data for.\n",
    "ax.set_yticks(yticks)\n",
    "\n",
    "plt.show()"
   ]
  },
  {
   "cell_type": "code",
   "execution_count": 10,
   "metadata": {},
   "outputs": [
    {
     "data": {
      "image/png": "[encoded data removed]",
      "text/plain": [
       "<Figure size 432x288 with 1 Axes>"
      ]
     },
     "metadata": {},
     "output_type": "display_data"
    }
   ],
   "source": [
    "\n",
    "import networkx as nx\n",
    "import matplotlib.pyplot as plt\n",
    "\n",
    "DG = nx.DiGraph()\n",
    "DG.add_edges_from([(1, 2), (1, 3)])\n",
    "DG.add_node(1)\n",
    "DG.add_edge(1, 2)\n",
    "DG.add_node(\"spam\")        # adds node \"spam\"\n",
    "DG.add_edge(3, 'm')\n",
    "plt.subplot(121)\n",
    "nx.draw(DG, with_labels=True, font_weight='bold')"
   ]
  },
  {
   "cell_type": "code",
   "execution_count": 8,
   "metadata": {},
   "outputs": [],
   "source": [
    "import pickle\n",
    "pickle_off = open(\"results.pkl\",\"rb\")\n",
    "data_dict = pickle.load(pickle_off)"
   ]
  },
  {
   "cell_type": "code",
   "execution_count": 9,
   "metadata": {},
   "outputs": [
    {
     "data": {
      "text/plain": [
       "['objective_value',\n",
       " 'number_of_buses',\n",
       " 'cap_list',\n",
       " 'partition_sim_bus_num',\n",
       " 'theo_bus_num',\n",
       " 'partition_theo_bus_num',\n",
       " 'sim_bus_num',\n",
       " 'number_list',\n",
       " 'loop_time',\n",
       " 'hourly_cost',\n",
       " 'route_partition',\n",
       " 'geo_route',\n",
       " 'geo_list']"
      ]
     },
     "execution_count": 9,
     "metadata": {},
     "output_type": "execute_result"
    }
   ],
   "source": [
    "data_dict['Monday']['tw=[12, 15]']['mr=25']['hw=7']['dr=1.0'].keys()"
   ]
  },
  {
   "cell_type": "code",
   "execution_count": 10,
   "metadata": {},
   "outputs": [
    {
     "data": {
      "text/plain": [
       "['R', 'D', 'R', 'B', 'R', 'E', 'R', 'C', 'R', 'A', 'R']"
      ]
     },
     "execution_count": 10,
     "metadata": {},
     "output_type": "execute_result"
    }
   ],
   "source": [
    "data_dict['Monday']['tw=[20, 23]']['mr=15']['hw=20']['dr=1.0']['geo_route']"
   ]
  },
  {
   "cell_type": "code",
   "execution_count": 11,
   "metadata": {},
   "outputs": [
    {
     "data": {
      "text/plain": [
       "25.0"
      ]
     },
     "execution_count": 11,
     "metadata": {},
     "output_type": "execute_result"
    }
   ],
   "source": [
    "data_dict['Monday']['tw=[20, 23]']['mr=15']['hw=7']['dr=1.0']['number_of_buses']"
   ]
  },
  {
   "cell_type": "code",
   "execution_count": 12,
   "metadata": {},
   "outputs": [
    {
     "data": {
      "text/plain": [
       "12"
      ]
     },
     "execution_count": 12,
     "metadata": {},
     "output_type": "execute_result"
    }
   ],
   "source": [
    "data_dict['Monday']['tw=[12, 15]']['mr=25']['hw=7']['dr=1.0']['sim_bus_num']"
   ]
  },
  {
   "cell_type": "code",
   "execution_count": 13,
   "metadata": {},
   "outputs": [
    {
     "data": {
      "text/plain": [
       "{0: ['R', 'E', 'D', 'R'], 1: ['R', 'C', 'B', 'A', 'R']}"
      ]
     },
     "execution_count": 13,
     "metadata": {},
     "output_type": "execute_result"
    }
   ],
   "source": [
    "data_dict['Monday']['tw=[12, 15]']['mr=25']['hw=7']['dr=1.0']['route_partition']"
   ]
  },
  {
   "cell_type": "code",
   "execution_count": 14,
   "metadata": {},
   "outputs": [
    {
     "data": {
      "text/plain": [
       "24.0"
      ]
     },
     "execution_count": 14,
     "metadata": {},
     "output_type": "execute_result"
    }
   ],
   "source": [
    "data_dict['Monday']['tw=[12, 15]']['mr=15']['hw=7']['dr=1.0']['partition_theo_bus_num']"
   ]
  },
  {
   "cell_type": "code",
   "execution_count": 15,
   "metadata": {},
   "outputs": [],
   "source": [
    "# import pickle\n",
    "\n",
    "# f = open(\"results_3.pkl\",\"wb\")\n",
    "# pickle.dump(data_dict,f) #pickle.dump(your_object, your_file, protocol=2)\n",
    "# f.close()"
   ]
  },
  {
   "cell_type": "code",
   "execution_count": 16,
   "metadata": {},
   "outputs": [
    {
     "data": {
      "text/plain": [
       "{0: ['R', 'B', 'A', 'R'], 1: ['R', 'C', 'E', 'R'], 2: ['R', 'D', 'R']}"
      ]
     },
     "execution_count": 16,
     "metadata": {},
     "output_type": "execute_result"
    }
   ],
   "source": [
    "data_dict['Monday']['tw=[0, 3]']['mr=20']['hw=7']['dr=1.0']['route_partition']"
   ]
  },
  {
   "cell_type": "code",
   "execution_count": 17,
   "metadata": {},
   "outputs": [
    {
     "data": {
      "text/plain": [
       "['R', 'B', 'A', 'R', 'C', 'E', 'R', 'D', 'R']"
      ]
     },
     "execution_count": 17,
     "metadata": {},
     "output_type": "execute_result"
    }
   ],
   "source": [
    "data_dict['Monday']['tw=[0, 3]']['mr=20']['hw=7']['dr=1.0']['geo_route']"
   ]
  },
  {
   "cell_type": "code",
   "execution_count": 18,
   "metadata": {},
   "outputs": [
    {
     "data": {
      "text/plain": [
       "18.0"
      ]
     },
     "execution_count": 18,
     "metadata": {},
     "output_type": "execute_result"
    }
   ],
   "source": [
    "data_dict['Monday']['tw=[0, 3]']['mr=20']['hw=7']['dr=1.0']['number_of_buses']"
   ]
  },
  {
   "cell_type": "code",
   "execution_count": 19,
   "metadata": {},
   "outputs": [
    {
     "data": {
      "text/plain": [
       "16.0"
      ]
     },
     "execution_count": 19,
     "metadata": {},
     "output_type": "execute_result"
    }
   ],
   "source": [
    "data_dict['Monday']['tw=[0, 3]']['mr=20']['hw=7']['dr=1.0']['theo_bus_num']"
   ]
  },
  {
   "cell_type": "code",
   "execution_count": 20,
   "metadata": {},
   "outputs": [
    {
     "data": {
      "text/plain": [
       "18"
      ]
     },
     "execution_count": 20,
     "metadata": {},
     "output_type": "execute_result"
    }
   ],
   "source": [
    "data_dict['Monday']['tw=[0, 3]']['mr=20']['hw=7']['dr=1.0']['sim_bus_num']"
   ]
  },
  {
   "cell_type": "code",
   "execution_count": 21,
   "metadata": {},
   "outputs": [
    {
     "data": {
      "text/plain": [
       "['R', 'B', 'A', 'R', 'E', 'R', 'C', 'D', 'R']"
      ]
     },
     "execution_count": 21,
     "metadata": {},
     "output_type": "execute_result"
    }
   ],
   "source": [
    "data_dict['Monday']['tw=[4, 7]']['mr=20']['hw=7']['dr=1.0']['geo_route']"
   ]
  },
  {
   "cell_type": "code",
   "execution_count": 22,
   "metadata": {},
   "outputs": [
    {
     "data": {
      "text/plain": [
       "['R', 'C', 'D', 'R', 'E', 'R', 'B', 'A', 'R']"
      ]
     },
     "execution_count": 22,
     "metadata": {},
     "output_type": "execute_result"
    }
   ],
   "source": [
    "data_dict['Monday']['tw=[8, 11]']['mr=20']['hw=7']['dr=1.0']['geo_route']"
   ]
  },
  {
   "cell_type": "code",
   "execution_count": 23,
   "metadata": {},
   "outputs": [
    {
     "data": {
      "text/plain": [
       "['R', 'C', 'D', 'R', 'B', 'A', 'R', 'E', 'R']"
      ]
     },
     "execution_count": 23,
     "metadata": {},
     "output_type": "execute_result"
    }
   ],
   "source": [
    "data_dict['Monday']['tw=[12, 15]']['mr=20']['hw=7']['dr=1.0']['geo_route']"
   ]
  },
  {
   "cell_type": "code",
   "execution_count": 24,
   "metadata": {},
   "outputs": [
    {
     "data": {
      "text/plain": [
       "['R', 'C', 'D', 'R', 'B', 'A', 'R', 'E', 'R']"
      ]
     },
     "execution_count": 24,
     "metadata": {},
     "output_type": "execute_result"
    }
   ],
   "source": [
    "data_dict['Monday']['tw=[16, 19]']['mr=20']['hw=7']['dr=1.0']['geo_route']"
   ]
  },
  {
   "cell_type": "code",
   "execution_count": 25,
   "metadata": {},
   "outputs": [
    {
     "data": {
      "text/plain": [
       "['R', 'E', 'D', 'R', 'C', 'R', 'B', 'A', 'R']"
      ]
     },
     "execution_count": 25,
     "metadata": {},
     "output_type": "execute_result"
    }
   ],
   "source": [
    "data_dict['Monday']['tw=[20, 23]']['mr=20']['hw=7']['dr=1.0']['geo_route']"
   ]
  },
  {
   "cell_type": "code",
   "execution_count": 26,
   "metadata": {},
   "outputs": [
    {
     "data": {
      "text/plain": [
       "19"
      ]
     },
     "execution_count": 26,
     "metadata": {},
     "output_type": "execute_result"
    }
   ],
   "source": [
    "data_dict['Monday']['tw=[0, 3]']['mr=20']['hw=7']['dr=1.0']['partition_sim_bus_num']"
   ]
  },
  {
   "cell_type": "code",
   "execution_count": 27,
   "metadata": {},
   "outputs": [],
   "source": [
    "\n",
    "import networkx as nx\n",
    "import matplotlib.pyplot as plt\n",
    "%matplotlib inline"
   ]
  },
  {
   "cell_type": "code",
   "execution_count": 28,
   "metadata": {},
   "outputs": [
    {
     "data": {
      "image/png": "[encoded data removed]",
      "text/plain": [
       "<Figure size 432x288 with 6 Axes>"
      ]
     },
     "metadata": {},
     "output_type": "display_data"
    },
    {
     "data": {
      "text/plain": [
       "<Figure size 432x288 with 0 Axes>"
      ]
     },
     "metadata": {},
     "output_type": "display_data"
    }
   ],
   "source": [
    "DG = nx.DiGraph()\n",
    "#r = ['R', 'E', 'B', 'R', 'A', 'R', 'C', 'D', 'R']\n",
    "r = data_dict['Monday']['tw=[0, 3]']['mr=20']['hw=7']['dr=1.0']['geo_route']\n",
    "for i in range(len(r)):\n",
    "    node = r[i]\n",
    "    DG.add_node(node) \n",
    "    \n",
    "for i in range(len(r) - 1):\n",
    "    edge = (r[i],r[i+1])\n",
    "    DG.add_edge(*edge) \n",
    "    \n",
    "plt.subplot(161)\n",
    "nx.draw(DG, with_labels=True, font_weight='bold',pos = nx.layout.spring_layout(DG))\n",
    "\n",
    "DG = nx.DiGraph()\n",
    "#r = ['R', 'E', 'B', 'R', 'A', 'R', 'C', 'D', 'R']\n",
    "r = data_dict['Monday']['tw=[4, 7]']['mr=20']['hw=7']['dr=1.0']['geo_route']\n",
    "for i in range(len(r)):\n",
    "    node = r[i]\n",
    "    DG.add_node(node) \n",
    "    \n",
    "for i in range(len(r) - 1):\n",
    "    edge = (r[i],r[i+1])\n",
    "    DG.add_edge(*edge) \n",
    "    \n",
    "plt.subplot(162)\n",
    "nx.draw(DG, with_labels=True, font_weight='bold',pos = nx.layout.spring_layout(DG))\n",
    "\n",
    "\n",
    "DG = nx.DiGraph()\n",
    "#r = ['R', 'E', 'B', 'R', 'A', 'R', 'C', 'D', 'R']\n",
    "r = data_dict['Monday']['tw=[8, 11]']['mr=20']['hw=7']['dr=1.0']['geo_route']\n",
    "for i in range(len(r)):\n",
    "    node = r[i]\n",
    "    DG.add_node(node) \n",
    "    \n",
    "for i in range(len(r) - 1):\n",
    "    edge = (r[i],r[i+1])\n",
    "    DG.add_edge(*edge) \n",
    "    \n",
    "plt.subplot(163)\n",
    "nx.draw(DG, with_labels=True, font_weight='bold',pos = nx.layout.spring_layout(DG))\n",
    "\n",
    "\n",
    "DG = nx.DiGraph()\n",
    "#r = ['R', 'E', 'B', 'R', 'A', 'R', 'C', 'D', 'R']\n",
    "r = data_dict['Monday']['tw=[12, 15]']['mr=20']['hw=7']['dr=1.0']['geo_route']\n",
    "for i in range(len(r)):\n",
    "    node = r[i]\n",
    "    DG.add_node(node) \n",
    "    \n",
    "for i in range(len(r) - 1):\n",
    "    edge = (r[i],r[i+1])\n",
    "    DG.add_edge(*edge) \n",
    "    \n",
    "plt.subplot(164)\n",
    "nx.draw(DG, with_labels=True, font_weight='bold',pos = nx.layout.spring_layout(DG))\n",
    "\n",
    "\n",
    "DG = nx.DiGraph()\n",
    "#r = ['R', 'E', 'B', 'R', 'A', 'R', 'C', 'D', 'R']\n",
    "r = data_dict['Monday']['tw=[16, 19]']['mr=20']['hw=7']['dr=1.0']['geo_route']\n",
    "for i in range(len(r)):\n",
    "    node = r[i]\n",
    "    DG.add_node(node) \n",
    "    \n",
    "for i in range(len(r) - 1):\n",
    "    edge = (r[i],r[i+1])\n",
    "    DG.add_edge(*edge) \n",
    "    \n",
    "plt.subplot(165)\n",
    "nx.draw(DG, with_labels=True, font_weight='bold',pos = nx.layout.spring_layout(DG))\n",
    "\n",
    "\n",
    "DG = nx.DiGraph()\n",
    "#r = ['R', 'E', 'B', 'R', 'A', 'R', 'C', 'D', 'R']\n",
    "r = data_dict['Monday']['tw=[20, 23]']['mr=20']['hw=7']['dr=1.0']['geo_route']\n",
    "for i in range(len(r)):\n",
    "    node = r[i]\n",
    "    DG.add_node(node) \n",
    "    \n",
    "for i in range(len(r) - 1):\n",
    "    edge = (r[i],r[i+1])\n",
    "    DG.add_edge(*edge) \n",
    "    \n",
    "plt.subplot(166)\n",
    "nx.draw(DG, with_labels=True, font_weight='bold',pos = nx.layout.spring_layout(DG))\n",
    "\n",
    "plt.show()\n",
    "plt.savefig(\"test.pdf\")"
   ]
  },
  {
   "cell_type": "code",
   "execution_count": 29,
   "metadata": {},
   "outputs": [
    {
     "data": {
      "image/png": "[encoded data removed]",
      "text/plain": [
       "<Figure size 432x288 with 3 Axes>"
      ]
     },
     "metadata": {},
     "output_type": "display_data"
    }
   ],
   "source": [
    "nodes = ['A','B','C']\n",
    "DG = nx.DiGraph()\n",
    "#r = ['R', 'E', 'B', 'R', 'A', 'R', 'C', 'D', 'R']\n",
    "r = data_dict['Monday']['tw=[8, 11]']['mr=15']['hw=7']['dr=1.0']['geo_route']\n",
    "for i in range(len(r)):\n",
    "    node = r[i]\n",
    "    DG.add_node(node) \n",
    "    \n",
    "for i in range(len(r) - 1):\n",
    "    edge = (r[i],r[i+1])\n",
    "    DG.add_edge(*edge) \n",
    "    \n",
    "plt.subplot(131)\n",
    "nx.draw(DG, with_labels=True, font_weight='bold',pos = nx.layout.circular_layout(DG))\n",
    "\n",
    "#r = ['R', 'E', 'B', 'R', 'A', 'R', 'C', 'D', 'R']\n",
    "\n",
    "r = data_dict['Monday']['tw=[8, 11]']['mr=20']['hw=7']['dr=1.0']['geo_route']\n",
    "for i in range(len(r)):\n",
    "    node = r[i]\n",
    "    DG.add_node(node) \n",
    "    \n",
    "for i in range(len(r) - 1):\n",
    "    edge = (r[i],r[i+1])\n",
    "    DG.add_edge(*edge) \n",
    "    \n",
    "plt.subplot(132)\n",
    "nx.draw(DG, with_labels=True, font_weight='bold',pos = nx.layout.circular_layout(DG))\n",
    "\n",
    "\n",
    "DG = nx.DiGraph()\n",
    "#r = ['R', 'E', 'B', 'R', 'A', 'R', 'C', 'D', 'R']\n",
    "r = data_dict['Monday']['tw=[8, 11]']['mr=25']['hw=7']['dr=1.0']['geo_route']\n",
    "for i in range(len(r)):\n",
    "    node = r[i]\n",
    "    DG.add_node(node) \n",
    "    \n",
    "for i in range(len(r) - 1):\n",
    "    edge = (r[i],r[i+1])\n",
    "    DG.add_edge(*edge) \n",
    "    \n",
    "plt.subplot(133)\n",
    "nx.draw(DG, with_labels=True, font_weight='bold',pos = nx.layout.circular_layout(DG))\n",
    "\n",
    "\n",
    "\n",
    "plt.show()\n",
    "\n"
   ]
  },
  {
   "cell_type": "code",
   "execution_count": 30,
   "metadata": {},
   "outputs": [
    {
     "name": "stdout",
     "output_type": "stream",
     "text": [
      "['R', 'E', 'D', 'C', 'R', 'B', 'A', 'R']\n"
     ]
    },
    {
     "data": {
      "image/png": "[encoded data removed]",
      "text/plain": [
       "<Figure size 432x288 with 1 Axes>"
      ]
     },
     "metadata": {},
     "output_type": "display_data"
    }
   ],
   "source": [
    "DG = nx.DiGraph()\n",
    "n = ['A','B','C']\n",
    "#r = ['R', 'E', 'B', 'R', 'A', 'R', 'C', 'D', 'R']\n",
    "r = data_dict['Monday']['tw=[8, 11]']['mr=25']['hw=7']['dr=1.0']['geo_route']\n",
    "print r\n",
    "for i in range(len(r)):\n",
    "    node = r[i]\n",
    "    DG.add_node(node) \n",
    "    \n",
    "for i in range(len(r) - 1):\n",
    "    edge = (r[i],r[i+1])\n",
    "    DG.add_edge(*edge) \n",
    "   \n",
    "plt.subplot(111)\n",
    "nx.draw(DG, with_labels=True, font_weight='bold',pos= nx.layout.circular_layout(DG))\n",
    "\n",
    "\n",
    "plt.show()\n",
    "\n",
    "\n",
    "\n",
    "\n",
    "#nx.draw_networkx_edges(G, pos=nx.spring_layout(G))"
   ]
  },
  {
   "cell_type": "code",
   "execution_count": 31,
   "metadata": {},
   "outputs": [
    {
     "ename": "SyntaxError",
     "evalue": "unexpected EOF while parsing (<ipython-input-31-490978d40364>, line 1)",
     "output_type": "error",
     "traceback": [
      "\u001b[0;36m  File \u001b[0;32m\"<ipython-input-31-490978d40364>\"\u001b[0;36m, line \u001b[0;32m1\u001b[0m\n\u001b[0;31m    nx.draw(DG, with_labels=True, font_weight='bold',pos= nx.layout.nx\u001b[0m\n\u001b[0m                                                                      ^\u001b[0m\n\u001b[0;31mSyntaxError\u001b[0m\u001b[0;31m:\u001b[0m unexpected EOF while parsing\n"
     ]
    }
   ],
   "source": [
    "nx.draw(DG, with_labels=True, font_weight='bold',pos= nx.layout.nx"
   ]
  },
  {
   "cell_type": "code",
   "execution_count": 32,
   "metadata": {},
   "outputs": [],
   "source": [
    "DG.graph['edge'] = {'arrowsize': '0.6', 'splines': 'curved'}"
   ]
  },
  {
   "cell_type": "code",
   "execution_count": 33,
   "metadata": {},
   "outputs": [
    {
     "data": {
      "text/plain": [
       "[{'arrowsize': '0.6', 'splines': 'curved'}]"
      ]
     },
     "execution_count": 33,
     "metadata": {},
     "output_type": "execute_result"
    }
   ],
   "source": [
    "DG.graph.values()"
   ]
  },
  {
   "cell_type": "code",
   "execution_count": 34,
   "metadata": {},
   "outputs": [
    {
     "ename": "NameError",
     "evalue": "name 'simulation_stages' is not defined",
     "output_type": "error",
     "traceback": [
      "\u001b[0;31m---------------------------------------------------------------------------\u001b[0m",
      "\u001b[0;31mNameError\u001b[0m                                 Traceback (most recent call last)",
      "\u001b[0;32m<ipython-input-34-04880fb4b35f>\u001b[0m in \u001b[0;36m<module>\u001b[0;34m()\u001b[0m\n\u001b[0;32m----> 1\u001b[0;31m \u001b[0msimulation_stages\u001b[0m\u001b[0;34m,\u001b[0m \u001b[0mchronology\u001b[0m\u001b[0;34m,\u001b[0m \u001b[0msimulation\u001b[0m\u001b[0;34m\u001b[0m\u001b[0m\n\u001b[0m",
      "\u001b[0;31mNameError\u001b[0m: name 'simulation_stages' is not defined"
     ]
    }
   ],
   "source": [
    "simulation_stages, chronology, simulation"
   ]
  },
  {
   "cell_type": "code",
   "execution_count": null,
   "metadata": {},
   "outputs": [],
   "source": []
  },
  {
   "cell_type": "code",
   "execution_count": 35,
   "metadata": {},
   "outputs": [],
   "source": [
    "import networkx as nx\n",
    "from networkx.drawing.nx_agraph import to_agraph \n",
    "\n",
    "# define the graph as per your question\n",
    "G=nx.MultiDiGraph([(1,2),(1,1),(1,2),(2,3),(3,4),(2,4), \n",
    "    (1,2),(1,2),(1,2),(2,3),(3,4),(2,4)])\n",
    "\n",
    "# add graphviz layout options (see https://stackoverflow.com/a/39662097)\n",
    "G.graph['edge'] = {'arrowsize': '0.6', 'splines': 'curved'}\n",
    "G.graph['graph'] = {'scale': '3'}\n",
    "\n",
    "# adding attributes to edges in multigraphs is more complicated but see\n",
    "# https://stackoverflow.com/a/26694158                    \n",
    "G[1][1][0]['color']='red'\n",
    "A = to_agraph(G) \n",
    "A.layout('dot')  \n",
    "A.draw('multi.png') \n"
   ]
  },
  {
   "cell_type": "code",
   "execution_count": 36,
   "metadata": {},
   "outputs": [],
   "source": [
    "import networkx as nx\n",
    "from networkx.drawing.nx_agraph import to_agraph"
   ]
  },
  {
   "cell_type": "code",
   "execution_count": null,
   "metadata": {},
   "outputs": [],
   "source": []
  },
  {
   "cell_type": "code",
   "execution_count": 37,
   "metadata": {},
   "outputs": [
    {
     "name": "stdout",
     "output_type": "stream",
     "text": [
      "[('R', 'A'), ('A', 'R'), ('R', 'C'), ('C', 'R'), ('R', 'E'), ('E', 'D'), ('D', 'R'), ('R', 'B'), ('B', 'R')]\n"
     ]
    }
   ],
   "source": [
    "n = ['A','B','C']\n",
    "r = data_dict['Monday']['tw=[8, 11]']['mr=15']['hw=7']['dr=1.0']['geo_route']\n",
    "\n",
    "\n",
    "edge_list =[]\n",
    "for i in range(len(r) - 1):\n",
    "    edge = (r[i],r[i+1])\n",
    "    edge_list.append(edge)\n",
    "    DG.add_edge(*edge) \n",
    "    \n",
    "print edge_list\n",
    "\n",
    "# define the graph as per your question\n",
    "# G=nx.MultiDiGraph([(1,2),(1,1),(1,2),(2,3),(3,4),(2,4), \n",
    "#     (1,2),(1,2),(1,2),(2,3),(3,4),(2,4)])\n",
    "G=nx.MultiDiGraph(edge_list)\n",
    "\n",
    "# add graphviz layout options (see https://stackoverflow.com/a/39662097)\n",
    "G.graph['edge'] = {'arrowsize': '0.6', 'splines': 'curved'}\n",
    "G.graph['graph'] = {'scale': '3'}\n",
    "\n",
    "# adding attributes to edges in multigraphs is more complicated but see\n",
    "# https://stackoverflow.com/a/26694158                    \n",
    "#G[1][1][0]['color']='red'\n",
    "A = to_agraph(G) \n",
    "A.layout('dot')  \n",
    "A.draw('g_15.png')     \n",
    "    "
   ]
  },
  {
   "cell_type": "code",
   "execution_count": 38,
   "metadata": {},
   "outputs": [],
   "source": [
    "def draw_my_graph(r,name):\n",
    "    edge_list =[]\n",
    "    for i in range(len(r) - 1):\n",
    "        edge = (r[i],r[i+1])\n",
    "        edge_list.append(edge)\n",
    "        DG.add_edge(*edge) \n",
    "\n",
    "    print edge_list\n",
    "\n",
    "    # define the graph as per your question\n",
    "    # G=nx.MultiDiGraph([(1,2),(1,1),(1,2),(2,3),(3,4),(2,4), \n",
    "    #     (1,2),(1,2),(1,2),(2,3),(3,4),(2,4)])\n",
    "    G=nx.MultiDiGraph(edge_list)\n",
    "\n",
    "    # add graphviz layout options (see https://stackoverflow.com/a/39662097)\n",
    "    G.graph['edge'] = {'arrowsize': '0.6', 'splines': 'curved'}\n",
    "    G.graph['graph'] = {'scale': '3'}\n",
    "\n",
    "    # adding attributes to edges in multigraphs is more complicated but see\n",
    "    # https://stackoverflow.com/a/26694158                    \n",
    "    #G[1][1][0]['color']='red'\n",
    "    A = to_agraph(G) \n",
    "    A.layout('dot')  \n",
    "    A.draw(name)     \n",
    "    return"
   ]
  },
  {
   "cell_type": "code",
   "execution_count": 39,
   "metadata": {},
   "outputs": [
    {
     "name": "stdout",
     "output_type": "stream",
     "text": [
      "[('R', 'D'), ('D', 'R'), ('R', 'C'), ('C', 'R'), ('R', 'B'), ('B', 'R'), ('R', 'E'), ('E', 'R'), ('R', 'A'), ('A', 'R')]\n"
     ]
    }
   ],
   "source": [
    "r = data_dict['Monday']['tw=[20, 23]']['mr=15']['hw=7']['dr=1.0']['geo_route']\n",
    "draw_my_graph(r,'base_line.png')"
   ]
  },
  {
   "cell_type": "code",
   "execution_count": 61,
   "metadata": {},
   "outputs": [
    {
     "name": "stdout",
     "output_type": "stream",
     "text": [
      "18.0\n",
      "[('R', 'B'), ('B', 'A'), ('A', 'R'), ('R', 'C'), ('C', 'E'), ('E', 'R'), ('R', 'D'), ('D', 'R')]\n",
      "17.0\n",
      "[('R', 'B'), ('B', 'A'), ('A', 'R'), ('R', 'E'), ('E', 'R'), ('R', 'C'), ('C', 'D'), ('D', 'R')]\n",
      "17.0\n",
      "[('R', 'C'), ('C', 'D'), ('D', 'R'), ('R', 'E'), ('E', 'R'), ('R', 'B'), ('B', 'A'), ('A', 'R')]\n",
      "17.0\n",
      "[('R', 'C'), ('C', 'D'), ('D', 'R'), ('R', 'B'), ('B', 'A'), ('A', 'R'), ('R', 'E'), ('E', 'R')]\n",
      "18.0\n",
      "[('R', 'C'), ('C', 'D'), ('D', 'R'), ('R', 'B'), ('B', 'A'), ('A', 'R'), ('R', 'E'), ('E', 'R')]\n",
      "20.0\n",
      "[('R', 'E'), ('E', 'D'), ('D', 'R'), ('R', 'C'), ('C', 'R'), ('R', 'B'), ('B', 'A'), ('A', 'R')]\n"
     ]
    }
   ],
   "source": [
    "r = data_dict['Monday']['tw=[0, 3]']['mr=20']['hw=7']['dr=1.0']['geo_route']\n",
    "print data_dict['Monday']['tw=[0, 3]']['mr=20']['hw=7']['dr=1.0']['number_of_buses']\n",
    "draw_my_graph(r,'g_0_3.png')\n",
    "\n",
    "r = data_dict['Monday']['tw=[4, 7]']['mr=20']['hw=7']['dr=1.0']['geo_route']\n",
    "print data_dict['Monday']['tw=[4, 7]']['mr=20']['hw=7']['dr=1.0']['number_of_buses']\n",
    "draw_my_graph(r,'g_4_7.png')\n",
    "\n",
    "r = data_dict['Monday']['tw=[8, 11]']['mr=20']['hw=7']['dr=1.0']['geo_route']\n",
    "print data_dict['Monday']['tw=[8, 11]']['mr=20']['hw=7']['dr=1.0']['number_of_buses']\n",
    "draw_my_graph(r,'g_8_11.png')\n",
    "\n",
    "r = data_dict['Monday']['tw=[12, 15]']['mr=20']['hw=7']['dr=1.0']['geo_route']\n",
    "print data_dict['Monday']['tw=[12, 15]']['mr=20']['hw=7']['dr=1.0']['number_of_buses']\n",
    "draw_my_graph(r,'g_12_15.png')\n",
    "\n",
    "r = data_dict['Monday']['tw=[16, 19]']['mr=20']['hw=7']['dr=1.0']['geo_route']\n",
    "print data_dict['Monday']['tw=[16, 19]']['mr=20']['hw=7']['dr=1.0']['number_of_buses']\n",
    "draw_my_graph(r,'g_16_19.png')\n",
    "\n",
    "r = data_dict['Monday']['tw=[20, 23]']['mr=20']['hw=7']['dr=1.0']['geo_route']\n",
    "print data_dict['Monday']['tw=[20, 23]']['mr=20']['hw=7']['dr=1.0']['number_of_buses']\n",
    "draw_my_graph(r,'g_20_23.png')"
   ]
  },
  {
   "cell_type": "code",
   "execution_count": 60,
   "metadata": {},
   "outputs": [
    {
     "data": {
      "text/plain": [
       "['objective_value',\n",
       " 'number_of_buses',\n",
       " 'cap_list',\n",
       " 'partition_sim_bus_num',\n",
       " 'theo_bus_num',\n",
       " 'partition_theo_bus_num',\n",
       " 'sim_bus_num',\n",
       " 'number_list',\n",
       " 'loop_time',\n",
       " 'hourly_cost',\n",
       " 'route_partition',\n",
       " 'geo_route',\n",
       " 'geo_list']"
      ]
     },
     "execution_count": 60,
     "metadata": {},
     "output_type": "execute_result"
    }
   ],
   "source": [
    "data_dict['Monday']['tw=[0, 3]']['mr=20']['hw=7']['dr=1.0'].keys()"
   ]
  },
  {
   "cell_type": "code",
   "execution_count": null,
   "metadata": {},
   "outputs": [],
   "source": [
    "data_dict['Monday']['tw=[4, 7]']['mr=15']['hw=7']['dr=1.0']['loop_time']"
   ]
  },
  {
   "cell_type": "code",
   "execution_count": null,
   "metadata": {},
   "outputs": [],
   "source": [
    "data_dict['Monday']['tw=[4, 7]']['mr=20']['hw=7']['dr=1.0']['loop_time']"
   ]
  },
  {
   "cell_type": "code",
   "execution_count": 85,
   "metadata": {},
   "outputs": [
    {
     "data": {
      "text/plain": [
       "16"
      ]
     },
     "execution_count": 85,
     "metadata": {},
     "output_type": "execute_result"
    }
   ],
   "source": [
    "data_dict['Monday']['tw=[8, 11]']['mr=20']['hw=7']['dr=1.0']['sim_bus_num']"
   ]
  },
  {
   "cell_type": "code",
   "execution_count": 87,
   "metadata": {},
   "outputs": [
    {
     "data": {
      "text/plain": [
       "17.0"
      ]
     },
     "execution_count": 87,
     "metadata": {},
     "output_type": "execute_result"
    }
   ],
   "source": [
    "data_dict['Monday']['tw=[8, 11]']['mr=20']['hw=7']['dr=1.0']['number_of_buses']"
   ]
  },
  {
   "cell_type": "code",
   "execution_count": null,
   "metadata": {},
   "outputs": [],
   "source": [
    "data_dict['Monday']['tw=[8, 11]']['mr=20']['hw=7']['dr=1.0']['sim_bus_num']"
   ]
  },
  {
   "cell_type": "code",
   "execution_count": 88,
   "metadata": {},
   "outputs": [
    {
     "data": {
      "text/plain": [
       "14.0"
      ]
     },
     "execution_count": 88,
     "metadata": {},
     "output_type": "execute_result"
    }
   ],
   "source": [
    "data_dict['Monday']['tw=[8, 11]']['mr=20']['hw=7']['dr=1.0']['theo_bus_num']"
   ]
  },
  {
   "cell_type": "code",
   "execution_count": 67,
   "metadata": {},
   "outputs": [],
   "source": [
    "import pickle\n",
    "pickle_off = open(\"base_line_numbers.pkl\",\"rb\")\n",
    "base_line = pickle.load(pickle_off)"
   ]
  },
  {
   "cell_type": "code",
   "execution_count": 68,
   "metadata": {},
   "outputs": [
    {
     "data": {
      "text/plain": [
       "{'[0, 3]': {'A': 5.0, 'B': 5.0, 'C': 5.0, 'D': 5.0, 'E': 6.0},\n",
       " '[12, 15]': {'A': 5.0, 'B': 5.0, 'C': 5.0, 'D': 5.0, 'E': 4.0},\n",
       " '[16, 19]': {'A': 5.0, 'B': 5.0, 'C': 5.0, 'D': 4.0, 'E': 5.0},\n",
       " '[20, 23]': {'A': 6.0, 'B': 5.0, 'C': 6.0, 'D': 4.0, 'E': 5.0},\n",
       " '[4, 7]': {'A': 5.0, 'B': 5.0, 'C': 5.0, 'D': 5.0, 'E': 5.0},\n",
       " '[8, 11]': {'A': 5.0, 'B': 4.0, 'C': 5.0, 'D': 4.0, 'E': 4.0}}"
      ]
     },
     "execution_count": 68,
     "metadata": {},
     "output_type": "execute_result"
    }
   ],
   "source": [
    "base_line['Monday']"
   ]
  },
  {
   "cell_type": "code",
   "execution_count": 69,
   "metadata": {},
   "outputs": [
    {
     "data": {
      "text/plain": [
       "26"
      ]
     },
     "execution_count": 69,
     "metadata": {},
     "output_type": "execute_result"
    }
   ],
   "source": [
    "[0,3] = 26\n",
    "[4,7] = 24\n",
    "[8,11] = 22\n",
    "[12,15] = 24\n",
    "[16,19] = 24\n",
    "[20,23] = 26"
   ]
  },
  {
   "cell_type": "code",
   "execution_count": 40,
   "metadata": {},
   "outputs": [
    {
     "name": "stdout",
     "output_type": "stream",
     "text": [
      "17.0\n",
      "[('R', 'A'), ('A', 'R'), ('R', 'C'), ('C', 'R'), ('R', 'E'), ('E', 'D'), ('D', 'R'), ('R', 'B'), ('B', 'R')]\n",
      "17.0\n",
      "[('R', 'E'), ('E', 'R'), ('R', 'D'), ('D', 'R'), ('R', 'A'), ('A', 'R'), ('R', 'B'), ('B', 'R'), ('R', 'C'), ('C', 'R')]\n",
      "18.0\n",
      "[('R', 'C'), ('C', 'R'), ('R', 'D'), ('D', 'R'), ('R', 'A'), ('A', 'R'), ('R', 'B'), ('B', 'R'), ('R', 'E'), ('E', 'R')]\n"
     ]
    }
   ],
   "source": [
    "# r = data_dict['Monday']['tw=[0, 3]']['mr=20']['hw=7']['dr=1.0']['geo_route']\n",
    "# print data_dict['Monday']['tw=[0, 3]']['mr=20']['hw=7']['dr=1.0']['number_of_buses']\n",
    "# draw_my_graph(r,'./test_figs/t_0_3.png')\n",
    "\n",
    "# r = data_dict['Monday']['tw=[4, 7]']['mr=20']['hw=7']['dr=1.0']['geo_route']\n",
    "# print data_dict['Monday']['tw=[4, 7]']['mr=20']['hw=7']['dr=1.0']['number_of_buses']\n",
    "# draw_my_graph(r,'./test_figs/t_4_7.png')\n",
    "\n",
    "r = data_dict['Monday']['tw=[8, 11]']['mr=15']['hw=7']['dr=1.0']['geo_route']\n",
    "print data_dict['Monday']['tw=[8, 11]']['mr=20']['hw=7']['dr=1.0']['number_of_buses']\n",
    "draw_my_graph(r,'./test_figs/t_8_11.png')\n",
    "\n",
    "r = data_dict['Monday']['tw=[12, 15]']['mr=15']['hw=7']['dr=1.0']['geo_route']\n",
    "print data_dict['Monday']['tw=[12, 15]']['mr=20']['hw=7']['dr=1.0']['number_of_buses']\n",
    "draw_my_graph(r,'./test_figs/t_12_15.png')\n",
    "\n",
    "r = data_dict['Monday']['tw=[16, 19]']['mr=15']['hw=7']['dr=1.0']['geo_route']\n",
    "print data_dict['Monday']['tw=[16, 19]']['mr=20']['hw=7']['dr=1.0']['number_of_buses']\n",
    "draw_my_graph(r,'./test_figs/t_16_19.png')\n",
    "\n",
    "# r = data_dict['Monday']['tw=[20, 23]']['mr=20']['hw=7']['dr=1.0']['geo_route']\n",
    "# print data_dict['Monday']['tw=[20, 23]']['mr=20']['hw=7']['dr=1.0']['number_of_buses']\n",
    "# draw_my_graph(r,'./test_figs/t_20_23.png')"
   ]
  },
  {
   "cell_type": "code",
   "execution_count": null,
   "metadata": {},
   "outputs": [],
   "source": []
  }
 ],
 "metadata": {
  "@webio": {
   "lastCommId": null,
   "lastKernelId": null
  },
  "kernelspec": {
   "display_name": "Python 2",
   "language": "python",
   "name": "python2"
  },
  "language_info": {
   "codemirror_mode": {
    "name": "ipython",
    "version": 2
   },
   "file_extension": ".py",
   "mimetype": "text/x-python",
   "name": "python",
   "nbconvert_exporter": "python",
   "pygments_lexer": "ipython2",
   "version": "2.7.17"
  }
 },
 "nbformat": 4,
 "nbformat_minor": 2
}
