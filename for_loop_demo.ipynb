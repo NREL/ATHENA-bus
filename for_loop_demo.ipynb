{
 "cells": [
  {
   "cell_type": "markdown",
   "metadata": {},
   "source": [
    "# Load Packages"
   ]
  },
  {
   "cell_type": "code",
   "execution_count": 1,
   "metadata": {},
   "outputs": [],
   "source": [
    "#### importing packages ################################################################\n",
    "\n",
    "#import Pyro\n",
    "import pandas as pd\n",
    "import numpy as np\n",
    "from numpy import linalg\n",
    "import matplotlib.pyplot as plt\n",
    "#import cufflinks as cl\n",
    "#cl.go_offline()\n",
    "import jinja2 as jin\n",
    "\n",
    "#import cytoolz00\n",
    "import time\n",
    "import datetime\n",
    "from datetime import timedelta\n",
    "import math\n",
    "import scipy\n",
    "import glob"
   ]
  },
  {
   "cell_type": "code",
   "execution_count": 2,
   "metadata": {},
   "outputs": [],
   "source": [
    "import scipy"
   ]
  },
  {
   "cell_type": "code",
   "execution_count": 3,
   "metadata": {},
   "outputs": [],
   "source": [
    "import os\n",
    "import sys\n",
    "from pyomo.environ import *\n",
    "#from pyomo.pysp.scenariotree.scenariotreemanager import ScenarioTreeManagerSerial\n",
    "from pyomo.pysp.ef import create_ef_instance\n",
    "from pyomo.opt import SolverFactory\n",
    "from pyutilib.misc.config import ConfigBlock\n",
    "from pyomo.opt import SolverStatus, TerminationCondition"
   ]
  },
  {
   "cell_type": "code",
   "execution_count": 4,
   "metadata": {},
   "outputs": [],
   "source": [
    "import multiprocessing\n",
    "import subprocess\n",
    "import numpy as np\n",
    "import os\n",
    "import time\n",
    "import cloudpickle"
   ]
  },
  {
   "cell_type": "code",
   "execution_count": 5,
   "metadata": {},
   "outputs": [],
   "source": [
    "from utils import opt_lib as UT"
   ]
  },
  {
   "cell_type": "markdown",
   "metadata": {},
   "source": [
    "# Load Data and Reformate Data"
   ]
  },
  {
   "cell_type": "code",
   "execution_count": 6,
   "metadata": {},
   "outputs": [],
   "source": [
    "days = ['Monday', 'Tuesday', 'Wednesday', 'Thursday', 'Friday', 'Saturday', 'Sunday']\n",
    "time_windows = [ [0,7],[8,18],[19,23]]\n",
    "max_rides = [15,20,25]\n",
    "head_ways = [5,7,10,15,20,25]\n",
    "demand_std_dev = [0,1,2]#[.8,1.0,1.2]\n",
    "num_routes = [1,2,3,4,5]"
   ]
  },
  {
   "cell_type": "code",
   "execution_count": 8,
   "metadata": {},
   "outputs": [
    {
     "name": "stdout",
     "output_type": "stream",
     "text": [
      "[('/Users/dsigler/ATHENA-bus/VR_solutions', '/Users/dsigler/ATHENA-bus/VR_data/Monday_tw=[0, 7]_mr=15_hw=5_sd=0_routes=1_Scenario.dat'), ('/Users/dsigler/ATHENA-bus/VR_solutions', '/Users/dsigler/ATHENA-bus/VR_data/Monday_tw=[0, 7]_mr=15_hw=5_sd=0_routes=2_Scenario.dat')]\n"
     ]
    }
   ],
   "source": [
    "solution_dir = '/Users/dsigler/ATHENA-bus/VR_solutions'\n",
    "dir_name = 'VR_data'\n",
    "count = 0\n",
    "models = []\n",
    "for day in days:\n",
    "    for time_window in time_windows:\n",
    "        for max_ride in max_rides:\n",
    "            for head_way in head_ways:\n",
    "                for std_dev in demand_std_dev:\n",
    "                    for num in num_routes:\n",
    "                        count += 1\n",
    "                        if count < 3 :\n",
    "                            file_name = str(day) + '_tw=' + str(time_window) + '_mr=' + str(max_ride) + '_hw=' + str(head_way) + '_sd=' + str(std_dev) + '_routes=' + str(num)\n",
    "                            #print os.path.join(dir_name, file_name + '_Scenario.dat')\n",
    "                            data_file = os.path.join(os.path.abspath('./' + str(dir_name) ), file_name + '_Scenario.dat')\n",
    "                            models.append((solution_dir,data_file))\n",
    "                        else:\n",
    "                            break \n",
    "                        \n",
    "print models"
   ]
  },
  {
   "cell_type": "code",
   "execution_count": 9,
   "metadata": {},
   "outputs": [
    {
     "data": {
      "text/plain": [
       "('/Users/dsigler/ATHENA-bus/VR_solutions',\n",
       " '/Users/dsigler/ATHENA-bus/VR_data/Monday_tw=[0, 7]_mr=15_hw=5_sd=0_routes=1_Scenario.dat')"
      ]
     },
     "execution_count": 9,
     "metadata": {},
     "output_type": "execute_result"
    }
   ],
   "source": [
    "models[0]"
   ]
  },
  {
   "cell_type": "code",
   "execution_count": 10,
   "metadata": {},
   "outputs": [
    {
     "name": "stderr",
     "output_type": "stream",
     "text": [
      "utils/opt_lib.py:965: FutureWarning: The signature of `Series.to_csv` was aligned to that of `DataFrame.to_csv`, and argument 'header' will change its default value from False to True: please pass an explicit value to suppress this warning.\n",
      "  df.to_csv(loc)\n"
     ]
    },
    {
     "name": "stdout",
     "output_type": "stream",
     "text": [
      "/Users/dsigler/ATHENA-bus/VR_data/Monday_tw=[0, 7]_mr=15_hw=5_sd=0_routes=1_Scenario.dat\n",
      "/Users/dsigler/ATHENA-bus/VR_data/Monday_tw=[0, 7]_mr=15_hw=5_sd=0_routes=2_Scenario.dat\n"
     ]
    }
   ],
   "source": [
    "for example in models:\n",
    "    model_instance,results = UT.run_VR_model(example)"
   ]
  },
  {
   "cell_type": "code",
   "execution_count": null,
   "metadata": {},
   "outputs": [],
   "source": []
  }
 ],
 "metadata": {
  "@webio": {
   "lastCommId": null,
   "lastKernelId": null
  },
  "kernelspec": {
   "display_name": "Python 2",
   "language": "python",
   "name": "python2"
  },
  "language_info": {
   "codemirror_mode": {
    "name": "ipython",
    "version": 2
   },
   "file_extension": ".py",
   "mimetype": "text/x-python",
   "name": "python",
   "nbconvert_exporter": "python",
   "pygments_lexer": "ipython2",
   "version": "2.7.17"
  }
 },
 "nbformat": 4,
 "nbformat_minor": 2
}
