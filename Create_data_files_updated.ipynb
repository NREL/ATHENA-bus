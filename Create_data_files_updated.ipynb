{
 "cells": [
  {
   "cell_type": "markdown",
   "metadata": {},
   "source": [
    "# Load Packages"
   ]
  },
  {
   "cell_type": "code",
   "execution_count": 1,
   "metadata": {},
   "outputs": [],
   "source": [
    "#### importing packages ################################################################\n",
    "\n",
    "#import Pyro\n",
    "import pandas as pd\n",
    "import numpy as np\n",
    "from numpy import linalg\n",
    "import matplotlib.pyplot as plt\n",
    "#import cufflinks as cl\n",
    "#cl.go_offline()\n",
    "import jinja2 as jin\n",
    "\n",
    "#import cytoolz00\n",
    "import time\n",
    "import datetime\n",
    "from datetime import timedelta\n",
    "import math\n",
    "import scipy\n",
    "import glob"
   ]
  },
  {
   "cell_type": "code",
   "execution_count": 2,
   "metadata": {},
   "outputs": [],
   "source": [
    "import scipy"
   ]
  },
  {
   "cell_type": "code",
   "execution_count": 3,
   "metadata": {},
   "outputs": [],
   "source": [
    "import os\n",
    "import sys\n",
    "from pyomo.environ import *\n",
    "#from pyomo.pysp.scenariotree.scenariotreemanager import ScenarioTreeManagerSerial\n",
    "from pyomo.pysp.ef import create_ef_instance\n",
    "from pyomo.opt import SolverFactory\n",
    "from pyutilib.misc.config import ConfigBlock"
   ]
  },
  {
   "cell_type": "code",
   "execution_count": 4,
   "metadata": {},
   "outputs": [],
   "source": [
    "import utils as UT"
   ]
  },
  {
   "cell_type": "markdown",
   "metadata": {},
   "source": [
    "# Load Data and Reformate Data"
   ]
  },
  {
   "cell_type": "code",
   "execution_count": 5,
   "metadata": {},
   "outputs": [],
   "source": [
    "dwell_reduction = 1.0\n",
    "cuttoff_dwell = 900\n",
    "cuttoff_tt = 1500"
   ]
  },
  {
   "cell_type": "code",
   "execution_count": 6,
   "metadata": {},
   "outputs": [],
   "source": [
    "days = ['Monday', 'Tuesday', 'Wednesday', 'Thursday', 'Friday', 'Saturday', 'Sunday']\n",
    "time_windows = [ [0,7],[8,18],[19,23]]\n",
    "max_rides = [15,20,25]\n",
    "head_ways = [5,7,10,15,20,25]\n",
    "demand_std_dev = [0,1,2]\n",
    "num_routes = [1,2,3,4,5]\n"
   ]
  },
  {
   "cell_type": "code",
   "execution_count": 7,
   "metadata": {},
   "outputs": [
    {
     "name": "stdout",
     "output_type": "stream",
     "text": [
      "1\n",
      "2\n",
      "3\n",
      "4\n",
      "5\n",
      "6\n",
      "7\n",
      "8\n",
      "9\n",
      "10\n",
      "11\n",
      "12\n",
      "13\n",
      "14\n",
      "15\n",
      "16\n",
      "17\n",
      "18\n",
      "19\n"
     ]
    }
   ],
   "source": [
    "dir_name = 'VR_data'\n",
    "count = 0\n",
    "models = []\n",
    "for day in days:\n",
    "    for time_window in time_windows:\n",
    "        for max_ride in max_rides:\n",
    "            for head_way in head_ways:\n",
    "                for std_dev in demand_std_dev:\n",
    "                    for num in num_routes:\n",
    "                        count += 1\n",
    "                        if count < 20 :\n",
    "                            file_name = str(day) + '_tw=' + str(time_window) + '_mr=' + str(max_ride) + '_hw=' + str(head_way) + '_sd=' + str(std_dev) + '_routes=' + str(num)\n",
    "                            df_nodes = UT.generate_data_file(time_window,day,max_ride,head_way,dir_name,file_name,\n",
    "                               dwell_reduction,cuttoff_dwell,cuttoff_tt,std_dev,num)\n",
    "                            print count\n",
    "                        else:\n",
    "                            break"
   ]
  },
  {
   "cell_type": "code",
   "execution_count": 9,
   "metadata": {},
   "outputs": [
    {
     "data": {
      "text/plain": [
       "1134"
      ]
     },
     "execution_count": 9,
     "metadata": {},
     "output_type": "execute_result"
    }
   ],
   "source": [
    "7*3*3*6*3*1\n"
   ]
  },
  {
   "cell_type": "code",
   "execution_count": null,
   "metadata": {},
   "outputs": [],
   "source": []
  }
 ],
 "metadata": {
  "@webio": {
   "lastCommId": null,
   "lastKernelId": null
  },
  "kernelspec": {
   "display_name": "Python 2",
   "language": "python",
   "name": "python2"
  },
  "language_info": {
   "codemirror_mode": {
    "name": "ipython",
    "version": 2
   },
   "file_extension": ".py",
   "mimetype": "text/x-python",
   "name": "python",
   "nbconvert_exporter": "python",
   "pygments_lexer": "ipython2",
   "version": "2.7.17"
  }
 },
 "nbformat": 4,
 "nbformat_minor": 2
}
